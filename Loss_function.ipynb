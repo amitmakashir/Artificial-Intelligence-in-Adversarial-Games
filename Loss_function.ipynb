{
  "nbformat": 4,
  "nbformat_minor": 0,
  "metadata": {
    "colab": {
      "name": "Loss_function.ipynb",
      "version": "0.3.2",
      "provenance": [],
      "collapsed_sections": [],
      "include_colab_link": true
    },
    "kernelspec": {
      "name": "python3",
      "display_name": "Python 3"
    }
  },
  "cells": [
    {
      "cell_type": "markdown",
      "metadata": {
        "id": "view-in-github",
        "colab_type": "text"
      },
      "source": [
        "<a href=\"https://colab.research.google.com/github/amitmakashir/Artificial-Intelligence-in-Adversarial-Games/blob/master/Loss_function.ipynb\" target=\"_parent\"><img src=\"https://colab.research.google.com/assets/colab-badge.svg\" alt=\"Open In Colab\"/></a>"
      ]
    },
    {
      "metadata": {
        "id": "5cLd7zC7oI5G",
        "colab_type": "code",
        "colab": {}
      },
      "cell_type": "code",
      "source": [
        "import tensorflow as tf\n",
        "import numpy as np\n",
        "import sklearn\n",
        "import pandas as pd\n",
        "from sklearn.preprocessing import StandardScaler\n",
        "import matplotlib.pyplot as plt\n",
        "from sklearn.manifold import TSNE\n",
        "import random\n",
        "import matplotlib.cm as cm\n",
        "import math"
      ],
      "execution_count": 0,
      "outputs": []
    },
    {
      "metadata": {
        "id": "0M4ti3alqxU6",
        "colab_type": "code",
        "outputId": "b6618314-a3a0-413d-fce1-eb8dedf52d65",
        "colab": {
          "base_uri": "https://localhost:8080/",
          "height": 204
        }
      },
      "cell_type": "code",
      "source": [
        "# a = tf.ones([3,2,2],dtype=tf.dtypes.float32)\n",
        "# b = tf.zeros([3,2,2],dtype=tf.dtypes.float32)\n",
        "\n",
        "grows = 3\n",
        "gcols = 3\n",
        "col_id = tf.to_float(tf.reshape(tf.tile(tf.range(grows), [gcols]), (1, grows, gcols, 1)))\n",
        "row_id = tf.to_float(tf.reshape(tf.tile(tf.range(grows), [gcols]), (1, grows, gcols, 1)))\n",
        "row_id = tf.transpose(row_id)\n",
        "coord_id = tf.concat([col_id,row_id],-1)\n",
        "\n",
        "c = tf.multiply(coord_id,[10,10])\n",
        "\n",
        "d = tf.reverse(c,[-1])\n",
        "with tf.Session() as sess:\n",
        "    print(sess.run(d))"
      ],
      "execution_count": 0,
      "outputs": [
        {
          "output_type": "stream",
          "text": [
            "[[[[ 0.  0.]\n",
            "   [ 0. 10.]\n",
            "   [ 0. 20.]]\n",
            "\n",
            "  [[10.  0.]\n",
            "   [10. 10.]\n",
            "   [10. 20.]]\n",
            "\n",
            "  [[20.  0.]\n",
            "   [20. 10.]\n",
            "   [20. 20.]]]]\n"
          ],
          "name": "stdout"
        }
      ]
    },
    {
      "metadata": {
        "id": "6MGgD7BhrDKu",
        "colab_type": "code",
        "colab": {}
      },
      "cell_type": "code",
      "source": [
        "# https://medium.com/@jonathan_hui/real-time-object-detection-with-yolo-yolov2-28b1b93e2088\n",
        "# https://github.com/thtrieu/darkflow/blob/master/darkflow/net/yolo/train.py\n",
        "# https://hackernoon.com/understanding-yolo-f5a74bbc7967\n",
        "\n",
        "def loss(y_true,y_pred):\n",
        "    '''\n",
        "    y_true.shape => (batch,grows,gcols,params)    \\\\ params = P(obj) + 4 b.b params + each class probabilities\n",
        "    y_pred.shape => y_true.shape\n",
        "        \n",
        "    b.b params => (x,y,h,w)\n",
        "    \n",
        "    There are 3 types of losses:\n",
        "    1. classification loss\n",
        "    2. localization loss\n",
        "    3. confidence loss\n",
        "    \n",
        "    The λ parameters that appear here and also in the first part are used to \n",
        "    differently weight parts of the loss functions. This is necessary to increase \n",
        "    model stability. The highest penalty is for coordinate predictions (λ coord = 5) \n",
        "    and the lowest for confidence predictions when no object is present (λ noobj = 0.5).\n",
        "    '''\n",
        "    \n",
        "    ##### Confidence loss\n",
        "    '''\n",
        "    Most boxes do not contain any objects. This causes a class imbalance problem,\n",
        "    i.e. we train the model to detect background more frequently than detecting \n",
        "    objects. To remedy this, we weight this loss down by a factor λnoobj (default: 0.5).\n",
        "    box_conf_score = P(obj) * (IoU with g.t)\n",
        "    '''\n",
        "    P_obj = y_pred[:,:,:,0]    # Slice probs\n",
        "    \n",
        "    # Calculate iou for all the predicted boxes\n",
        "    # calculate intersection\n",
        "    denorm_coords = Denormalize_coordinates(y_pred[:,:,:,1:3]) # Slice the x,y\n",
        "    true_area,pred_area,interset = Areas(denorm_coords,y_pred[:,:,:,3:5])\n",
        "    \n",
        "    lefttop,rightbot = Corner_coords(denorm_coords,y_pred[:,:,:,3:5]) # Slice the h,w\n",
        "    \n",
        "    \n",
        "    iou = tf.truediv(intersect, true_area + pred_area - intersect)  # intersection/union\n",
        "    \n",
        "    confs = tf.math.multiply(P_obj,iou)\n",
        "    \n",
        "    "
      ],
      "execution_count": 0,
      "outputs": []
    },
    {
      "metadata": {
        "id": "6CHjD-A2zgXr",
        "colab_type": "code",
        "colab": {}
      },
      "cell_type": "code",
      "source": [
        "def Denormalize_coordinates(pred_coords):\n",
        "    '''\n",
        "    Inputs\n",
        "    pred_coords.shape => (batch,grows,gcols,2) # normed x and y of the b.b\n",
        "    \n",
        "    Output:\n",
        "    denormalized_coord.shape => (batch,grows,gcols,2) # denormed x and y of the b.b\n",
        "    '''\n",
        "    img_height = tf.constant(342)\n",
        "    img_width = tf.constant(342)\n",
        "    \n",
        "    grows = tf.constant(19)\n",
        "    gcols = tf.constant(19)\n",
        "    \n",
        "    cell_height = tf.truediv(img_height,grows)\n",
        "    cell_width = tf.truediv(img_width,gcols)\n",
        "    \n",
        "    grid_cell_topleft[\"y\"] = grid_row_no*cell_height\n",
        "    grid_cell_topleft[\"x\"] = grid_col_no*cell_width\n",
        "        \n",
        "    col_id = tf.to_float(tf.reshape(tf.tile(tf.range(grows), [gcols]), (1, grows, gcols, 1)))\n",
        "    row_id = tf.to_float(tf.reshape(tf.tile(tf.range(grows), [gcols]), (1, grows, gcols, 1)))\n",
        "    row_id = tf.transpose(row_id)\n",
        "    coord_id = tf.concat([col_id,row_id],-1) # a 4D tensor that gives the coordinates for every box (col,row)\n",
        "\n",
        "    coords_lefttop = tf.multiply(coord_id,[cell_width,cell_height]) # Gets the leftmost coordinate for every box\n",
        "    cell_denormalized_coords = tf.multiply(pred_coords,[cell_width,cell_height])\n",
        "    \n",
        "    denormalized_coord = coords_lefttop + cell_denormalized_coords\n",
        "    \n",
        "    return denormalized_coord"
      ],
      "execution_count": 0,
      "outputs": []
    },
    {
      "metadata": {
        "id": "bOrd2d4czhj9",
        "colab_type": "text"
      },
      "cell_type": "markdown",
      "source": [
        ""
      ]
    },
    {
      "metadata": {
        "id": "FRXjBuy834t6",
        "colab_type": "code",
        "colab": {}
      },
      "cell_type": "code",
      "source": [
        "def Corner_coords(denorm_coords,box_params):\n",
        "    '''\n",
        "    We have h,w but we want w,h\n",
        "    '''\n",
        "    img_height = tf.constant(342)\n",
        "    img_width = tf.constant(342)\n",
        "    \n",
        "    grows = tf.constant(19)\n",
        "    gcols = tf.constant(19)\n",
        "    \n",
        "    cell_height = tf.truediv(img_height,grows)\n",
        "    cell_width = tf.truediv(img_width,gcols)\n",
        "    \n",
        "    box_params = tf.reverse(box_params,[-1]) # Now w,h\n",
        "    \n",
        "    halfs = box_params/2\n",
        "    \n",
        "    lefttop = denorm_coords - halfs\n",
        "    rightbot = denorm_coords + halfs\n",
        "    \n",
        "    return lefttop,rightbot"
      ],
      "execution_count": 0,
      "outputs": []
    },
    {
      "metadata": {
        "id": "wkDBpUjMCiuI",
        "colab_type": "code",
        "colab": {}
      },
      "cell_type": "code",
      "source": [
        "def Areas(denorm_coords,y_true,box_params):\n",
        "    lefttop,rightbot = Corner_coords(denorm_coords,box_params) # Slice the h,w\n",
        "    \n",
        "    \n",
        "    \n",
        "    "
      ],
      "execution_count": 0,
      "outputs": []
    }
  ]
}